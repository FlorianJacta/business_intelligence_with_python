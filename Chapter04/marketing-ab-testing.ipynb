{
 "cells": [
  {
   "cell_type": "markdown",
   "id": "c9964b57",
   "metadata": {
    "papermill": {
     "duration": 0.020812,
     "end_time": "2023-07-12T21:26:22.590386",
     "exception": false,
     "start_time": "2023-07-12T21:26:22.569574",
     "status": "completed"
    },
    "tags": []
   },
   "source": [
    "# ِDataset MetaData"
   ]
  },
  {
   "cell_type": "raw",
   "id": "5fd1b7bf",
   "metadata": {
    "papermill": {
     "duration": 0.020854,
     "end_time": "2023-07-12T21:26:22.631463",
     "exception": false,
     "start_time": "2023-07-12T21:26:22.610609",
     "status": "completed"
    },
    "tags": []
   },
   "source": [
    "Index: Row index\n",
    "user id: User ID (unique)\n",
    "test group: If \"ad\" the person saw the advertisement, if \"psa\" they only saw the public service announcement\n",
    "converted: If a person bought the product then True, else is False\n",
    "total ads: Amount of ads seen by person\n",
    "most ads day: Day that the person saw the biggest amount of ads\n",
    "most ads hour: Hour of day that the person saw the biggest amount of ads"
   ]
  },
  {
   "cell_type": "markdown",
   "id": "c7666f55",
   "metadata": {
    "papermill": {
     "duration": 0.018975,
     "end_time": "2023-07-12T21:26:22.670203",
     "exception": false,
     "start_time": "2023-07-12T21:26:22.651228",
     "status": "completed"
    },
    "tags": []
   },
   "source": [
    "# Import Libraries"
   ]
  },
  {
   "cell_type": "code",
   "execution_count": 1,
   "id": "7ebe6b2f",
   "metadata": {
    "execution": {
     "iopub.execute_input": "2023-07-12T21:26:22.712734Z",
     "iopub.status.busy": "2023-07-12T21:26:22.712302Z",
     "iopub.status.idle": "2023-07-12T21:26:24.426906Z",
     "shell.execute_reply": "2023-07-12T21:26:24.425292Z"
    },
    "papermill": {
     "duration": 1.739968,
     "end_time": "2023-07-12T21:26:24.430002",
     "exception": false,
     "start_time": "2023-07-12T21:26:22.690034",
     "status": "completed"
    },
    "tags": []
   },
   "outputs": [
    {
     "name": "stderr",
     "output_type": "stream",
     "text": [
      "/opt/conda/lib/python3.10/site-packages/scipy/__init__.py:146: UserWarning: A NumPy version >=1.16.5 and <1.23.0 is required for this version of SciPy (detected version 1.23.5\n",
      "  warnings.warn(f\"A NumPy version >={np_minversion} and <{np_maxversion}\"\n"
     ]
    }
   ],
   "source": [
    "import numpy as np\n",
    "import pandas as pd\n",
    "import seaborn as sns\n",
    "import matplotlib.pyplot as plt\n",
    "from scipy import stats\n",
    "\n",
    "\n",
    "import random"
   ]
  },
  {
   "cell_type": "markdown",
   "id": "898cf92a",
   "metadata": {
    "papermill": {
     "duration": 0.019348,
     "end_time": "2023-07-12T21:26:24.469861",
     "exception": false,
     "start_time": "2023-07-12T21:26:24.450513",
     "status": "completed"
    },
    "tags": []
   },
   "source": [
    "# Read Dataset"
   ]
  },
  {
   "cell_type": "code",
   "execution_count": 2,
   "id": "6321e884",
   "metadata": {
    "execution": {
     "iopub.execute_input": "2023-07-12T21:26:24.511825Z",
     "iopub.status.busy": "2023-07-12T21:26:24.511040Z",
     "iopub.status.idle": "2023-07-12T21:26:25.304901Z",
     "shell.execute_reply": "2023-07-12T21:26:25.303699Z"
    },
    "papermill": {
     "duration": 0.817927,
     "end_time": "2023-07-12T21:26:25.307748",
     "exception": false,
     "start_time": "2023-07-12T21:26:24.489821",
     "status": "completed"
    },
    "tags": []
   },
   "outputs": [
    {
     "data": {
      "text/html": [
       "<div>\n",
       "<style scoped>\n",
       "    .dataframe tbody tr th:only-of-type {\n",
       "        vertical-align: middle;\n",
       "    }\n",
       "\n",
       "    .dataframe tbody tr th {\n",
       "        vertical-align: top;\n",
       "    }\n",
       "\n",
       "    .dataframe thead th {\n",
       "        text-align: right;\n",
       "    }\n",
       "</style>\n",
       "<table border=\"1\" class=\"dataframe\">\n",
       "  <thead>\n",
       "    <tr style=\"text-align: right;\">\n",
       "      <th></th>\n",
       "      <th>Unnamed: 0</th>\n",
       "      <th>user id</th>\n",
       "      <th>test group</th>\n",
       "      <th>converted</th>\n",
       "      <th>total ads</th>\n",
       "      <th>most ads day</th>\n",
       "      <th>most ads hour</th>\n",
       "    </tr>\n",
       "  </thead>\n",
       "  <tbody>\n",
       "    <tr>\n",
       "      <th>0</th>\n",
       "      <td>0</td>\n",
       "      <td>1069124</td>\n",
       "      <td>ad</td>\n",
       "      <td>False</td>\n",
       "      <td>130</td>\n",
       "      <td>Monday</td>\n",
       "      <td>20</td>\n",
       "    </tr>\n",
       "    <tr>\n",
       "      <th>1</th>\n",
       "      <td>1</td>\n",
       "      <td>1119715</td>\n",
       "      <td>ad</td>\n",
       "      <td>False</td>\n",
       "      <td>93</td>\n",
       "      <td>Tuesday</td>\n",
       "      <td>22</td>\n",
       "    </tr>\n",
       "    <tr>\n",
       "      <th>2</th>\n",
       "      <td>2</td>\n",
       "      <td>1144181</td>\n",
       "      <td>ad</td>\n",
       "      <td>False</td>\n",
       "      <td>21</td>\n",
       "      <td>Tuesday</td>\n",
       "      <td>18</td>\n",
       "    </tr>\n",
       "    <tr>\n",
       "      <th>3</th>\n",
       "      <td>3</td>\n",
       "      <td>1435133</td>\n",
       "      <td>ad</td>\n",
       "      <td>False</td>\n",
       "      <td>355</td>\n",
       "      <td>Tuesday</td>\n",
       "      <td>10</td>\n",
       "    </tr>\n",
       "    <tr>\n",
       "      <th>4</th>\n",
       "      <td>4</td>\n",
       "      <td>1015700</td>\n",
       "      <td>ad</td>\n",
       "      <td>False</td>\n",
       "      <td>276</td>\n",
       "      <td>Friday</td>\n",
       "      <td>14</td>\n",
       "    </tr>\n",
       "  </tbody>\n",
       "</table>\n",
       "</div>"
      ],
      "text/plain": [
       "   Unnamed: 0  user id test group  converted  total ads most ads day  \\\n",
       "0           0  1069124         ad      False        130       Monday   \n",
       "1           1  1119715         ad      False         93      Tuesday   \n",
       "2           2  1144181         ad      False         21      Tuesday   \n",
       "3           3  1435133         ad      False        355      Tuesday   \n",
       "4           4  1015700         ad      False        276       Friday   \n",
       "\n",
       "   most ads hour  \n",
       "0             20  \n",
       "1             22  \n",
       "2             18  \n",
       "3             10  \n",
       "4             14  "
      ]
     },
     "execution_count": 2,
     "metadata": {},
     "output_type": "execute_result"
    }
   ],
   "source": [
    "\n",
    "df=pd.read_csv('/kaggle/input/marketing-ab-testing/marketing_AB.csv')\n",
    "df.head()"
   ]
  },
  {
   "cell_type": "markdown",
   "id": "09b5af0f",
   "metadata": {
    "papermill": {
     "duration": 0.02012,
     "end_time": "2023-07-12T21:26:25.347958",
     "exception": false,
     "start_time": "2023-07-12T21:26:25.327838",
     "status": "completed"
    },
    "tags": []
   },
   "source": [
    "# Explore Dataset"
   ]
  },
  {
   "cell_type": "code",
   "execution_count": 3,
   "id": "96ca8d67",
   "metadata": {
    "execution": {
     "iopub.execute_input": "2023-07-12T21:26:25.391258Z",
     "iopub.status.busy": "2023-07-12T21:26:25.390764Z",
     "iopub.status.idle": "2023-07-12T21:26:25.398813Z",
     "shell.execute_reply": "2023-07-12T21:26:25.397507Z"
    },
    "papermill": {
     "duration": 0.032149,
     "end_time": "2023-07-12T21:26:25.401617",
     "exception": false,
     "start_time": "2023-07-12T21:26:25.369468",
     "status": "completed"
    },
    "tags": []
   },
   "outputs": [
    {
     "data": {
      "text/plain": [
       "(588101, 7)"
      ]
     },
     "execution_count": 3,
     "metadata": {},
     "output_type": "execute_result"
    }
   ],
   "source": [
    "df.shape"
   ]
  },
  {
   "cell_type": "code",
   "execution_count": 4,
   "id": "c705a520",
   "metadata": {
    "execution": {
     "iopub.execute_input": "2023-07-12T21:26:25.444166Z",
     "iopub.status.busy": "2023-07-12T21:26:25.443730Z",
     "iopub.status.idle": "2023-07-12T21:26:25.458714Z",
     "shell.execute_reply": "2023-07-12T21:26:25.457464Z"
    },
    "papermill": {
     "duration": 0.039523,
     "end_time": "2023-07-12T21:26:25.461416",
     "exception": false,
     "start_time": "2023-07-12T21:26:25.421893",
     "status": "completed"
    },
    "tags": []
   },
   "outputs": [
    {
     "data": {
      "text/html": [
       "<div>\n",
       "<style scoped>\n",
       "    .dataframe tbody tr th:only-of-type {\n",
       "        vertical-align: middle;\n",
       "    }\n",
       "\n",
       "    .dataframe tbody tr th {\n",
       "        vertical-align: top;\n",
       "    }\n",
       "\n",
       "    .dataframe thead th {\n",
       "        text-align: right;\n",
       "    }\n",
       "</style>\n",
       "<table border=\"1\" class=\"dataframe\">\n",
       "  <thead>\n",
       "    <tr style=\"text-align: right;\">\n",
       "      <th></th>\n",
       "      <th>Unnamed: 0</th>\n",
       "      <th>user id</th>\n",
       "      <th>test group</th>\n",
       "      <th>converted</th>\n",
       "      <th>total ads</th>\n",
       "      <th>most ads day</th>\n",
       "      <th>most ads hour</th>\n",
       "    </tr>\n",
       "  </thead>\n",
       "  <tbody>\n",
       "    <tr>\n",
       "      <th>0</th>\n",
       "      <td>0</td>\n",
       "      <td>1069124</td>\n",
       "      <td>ad</td>\n",
       "      <td>False</td>\n",
       "      <td>130</td>\n",
       "      <td>Monday</td>\n",
       "      <td>20</td>\n",
       "    </tr>\n",
       "    <tr>\n",
       "      <th>1</th>\n",
       "      <td>1</td>\n",
       "      <td>1119715</td>\n",
       "      <td>ad</td>\n",
       "      <td>False</td>\n",
       "      <td>93</td>\n",
       "      <td>Tuesday</td>\n",
       "      <td>22</td>\n",
       "    </tr>\n",
       "    <tr>\n",
       "      <th>2</th>\n",
       "      <td>2</td>\n",
       "      <td>1144181</td>\n",
       "      <td>ad</td>\n",
       "      <td>False</td>\n",
       "      <td>21</td>\n",
       "      <td>Tuesday</td>\n",
       "      <td>18</td>\n",
       "    </tr>\n",
       "    <tr>\n",
       "      <th>3</th>\n",
       "      <td>3</td>\n",
       "      <td>1435133</td>\n",
       "      <td>ad</td>\n",
       "      <td>False</td>\n",
       "      <td>355</td>\n",
       "      <td>Tuesday</td>\n",
       "      <td>10</td>\n",
       "    </tr>\n",
       "    <tr>\n",
       "      <th>4</th>\n",
       "      <td>4</td>\n",
       "      <td>1015700</td>\n",
       "      <td>ad</td>\n",
       "      <td>False</td>\n",
       "      <td>276</td>\n",
       "      <td>Friday</td>\n",
       "      <td>14</td>\n",
       "    </tr>\n",
       "  </tbody>\n",
       "</table>\n",
       "</div>"
      ],
      "text/plain": [
       "   Unnamed: 0  user id test group  converted  total ads most ads day  \\\n",
       "0           0  1069124         ad      False        130       Monday   \n",
       "1           1  1119715         ad      False         93      Tuesday   \n",
       "2           2  1144181         ad      False         21      Tuesday   \n",
       "3           3  1435133         ad      False        355      Tuesday   \n",
       "4           4  1015700         ad      False        276       Friday   \n",
       "\n",
       "   most ads hour  \n",
       "0             20  \n",
       "1             22  \n",
       "2             18  \n",
       "3             10  \n",
       "4             14  "
      ]
     },
     "execution_count": 4,
     "metadata": {},
     "output_type": "execute_result"
    }
   ],
   "source": [
    "df.head(5)"
   ]
  },
  {
   "cell_type": "code",
   "execution_count": 5,
   "id": "6744cdfb",
   "metadata": {
    "execution": {
     "iopub.execute_input": "2023-07-12T21:26:25.504286Z",
     "iopub.status.busy": "2023-07-12T21:26:25.503792Z",
     "iopub.status.idle": "2023-07-12T21:26:25.518821Z",
     "shell.execute_reply": "2023-07-12T21:26:25.517489Z"
    },
    "papermill": {
     "duration": 0.039848,
     "end_time": "2023-07-12T21:26:25.521797",
     "exception": false,
     "start_time": "2023-07-12T21:26:25.481949",
     "status": "completed"
    },
    "tags": []
   },
   "outputs": [
    {
     "data": {
      "text/html": [
       "<div>\n",
       "<style scoped>\n",
       "    .dataframe tbody tr th:only-of-type {\n",
       "        vertical-align: middle;\n",
       "    }\n",
       "\n",
       "    .dataframe tbody tr th {\n",
       "        vertical-align: top;\n",
       "    }\n",
       "\n",
       "    .dataframe thead th {\n",
       "        text-align: right;\n",
       "    }\n",
       "</style>\n",
       "<table border=\"1\" class=\"dataframe\">\n",
       "  <thead>\n",
       "    <tr style=\"text-align: right;\">\n",
       "      <th></th>\n",
       "      <th>Unnamed: 0</th>\n",
       "      <th>user id</th>\n",
       "      <th>test group</th>\n",
       "      <th>converted</th>\n",
       "      <th>total ads</th>\n",
       "      <th>most ads day</th>\n",
       "      <th>most ads hour</th>\n",
       "    </tr>\n",
       "  </thead>\n",
       "  <tbody>\n",
       "    <tr>\n",
       "      <th>588096</th>\n",
       "      <td>588096</td>\n",
       "      <td>1278437</td>\n",
       "      <td>ad</td>\n",
       "      <td>False</td>\n",
       "      <td>1</td>\n",
       "      <td>Tuesday</td>\n",
       "      <td>23</td>\n",
       "    </tr>\n",
       "    <tr>\n",
       "      <th>588097</th>\n",
       "      <td>588097</td>\n",
       "      <td>1327975</td>\n",
       "      <td>ad</td>\n",
       "      <td>False</td>\n",
       "      <td>1</td>\n",
       "      <td>Tuesday</td>\n",
       "      <td>23</td>\n",
       "    </tr>\n",
       "    <tr>\n",
       "      <th>588098</th>\n",
       "      <td>588098</td>\n",
       "      <td>1038442</td>\n",
       "      <td>ad</td>\n",
       "      <td>False</td>\n",
       "      <td>3</td>\n",
       "      <td>Tuesday</td>\n",
       "      <td>23</td>\n",
       "    </tr>\n",
       "    <tr>\n",
       "      <th>588099</th>\n",
       "      <td>588099</td>\n",
       "      <td>1496395</td>\n",
       "      <td>ad</td>\n",
       "      <td>False</td>\n",
       "      <td>1</td>\n",
       "      <td>Tuesday</td>\n",
       "      <td>23</td>\n",
       "    </tr>\n",
       "    <tr>\n",
       "      <th>588100</th>\n",
       "      <td>588100</td>\n",
       "      <td>1237779</td>\n",
       "      <td>ad</td>\n",
       "      <td>False</td>\n",
       "      <td>1</td>\n",
       "      <td>Tuesday</td>\n",
       "      <td>23</td>\n",
       "    </tr>\n",
       "  </tbody>\n",
       "</table>\n",
       "</div>"
      ],
      "text/plain": [
       "        Unnamed: 0  user id test group  converted  total ads most ads day  \\\n",
       "588096      588096  1278437         ad      False          1      Tuesday   \n",
       "588097      588097  1327975         ad      False          1      Tuesday   \n",
       "588098      588098  1038442         ad      False          3      Tuesday   \n",
       "588099      588099  1496395         ad      False          1      Tuesday   \n",
       "588100      588100  1237779         ad      False          1      Tuesday   \n",
       "\n",
       "        most ads hour  \n",
       "588096             23  \n",
       "588097             23  \n",
       "588098             23  \n",
       "588099             23  \n",
       "588100             23  "
      ]
     },
     "execution_count": 5,
     "metadata": {},
     "output_type": "execute_result"
    }
   ],
   "source": [
    "df.tail(5)"
   ]
  },
  {
   "cell_type": "code",
   "execution_count": 6,
   "id": "f6f9dc26",
   "metadata": {
    "execution": {
     "iopub.execute_input": "2023-07-12T21:26:25.566075Z",
     "iopub.status.busy": "2023-07-12T21:26:25.565651Z",
     "iopub.status.idle": "2023-07-12T21:26:25.968619Z",
     "shell.execute_reply": "2023-07-12T21:26:25.967165Z"
    },
    "papermill": {
     "duration": 0.428256,
     "end_time": "2023-07-12T21:26:25.971571",
     "exception": false,
     "start_time": "2023-07-12T21:26:25.543315",
     "status": "completed"
    },
    "tags": []
   },
   "outputs": [
    {
     "name": "stdout",
     "output_type": "stream",
     "text": [
      "<class 'pandas.core.frame.DataFrame'>\n",
      "RangeIndex: 588101 entries, 0 to 588100\n",
      "Data columns (total 7 columns):\n",
      " #   Column         Non-Null Count   Dtype \n",
      "---  ------         --------------   ----- \n",
      " 0   Unnamed: 0     588101 non-null  int64 \n",
      " 1   user id        588101 non-null  int64 \n",
      " 2   test group     588101 non-null  object\n",
      " 3   converted      588101 non-null  bool  \n",
      " 4   total ads      588101 non-null  int64 \n",
      " 5   most ads day   588101 non-null  object\n",
      " 6   most ads hour  588101 non-null  int64 \n",
      "dtypes: bool(1), int64(4), object(2)\n",
      "memory usage: 27.5+ MB\n"
     ]
    }
   ],
   "source": [
    "df.info()"
   ]
  },
  {
   "cell_type": "code",
   "execution_count": 7,
   "id": "b75ea386",
   "metadata": {
    "execution": {
     "iopub.execute_input": "2023-07-12T21:26:26.016315Z",
     "iopub.status.busy": "2023-07-12T21:26:26.015281Z",
     "iopub.status.idle": "2023-07-12T21:26:26.450845Z",
     "shell.execute_reply": "2023-07-12T21:26:26.449531Z"
    },
    "papermill": {
     "duration": 0.461748,
     "end_time": "2023-07-12T21:26:26.453997",
     "exception": false,
     "start_time": "2023-07-12T21:26:25.992249",
     "status": "completed"
    },
    "tags": []
   },
   "outputs": [
    {
     "data": {
      "text/html": [
       "<div>\n",
       "<style scoped>\n",
       "    .dataframe tbody tr th:only-of-type {\n",
       "        vertical-align: middle;\n",
       "    }\n",
       "\n",
       "    .dataframe tbody tr th {\n",
       "        vertical-align: top;\n",
       "    }\n",
       "\n",
       "    .dataframe thead th {\n",
       "        text-align: right;\n",
       "    }\n",
       "</style>\n",
       "<table border=\"1\" class=\"dataframe\">\n",
       "  <thead>\n",
       "    <tr style=\"text-align: right;\">\n",
       "      <th></th>\n",
       "      <th>Unnamed: 0</th>\n",
       "      <th>user id</th>\n",
       "      <th>test group</th>\n",
       "      <th>converted</th>\n",
       "      <th>total ads</th>\n",
       "      <th>most ads day</th>\n",
       "      <th>most ads hour</th>\n",
       "    </tr>\n",
       "  </thead>\n",
       "  <tbody>\n",
       "    <tr>\n",
       "      <th>count</th>\n",
       "      <td>588101.000000</td>\n",
       "      <td>5.881010e+05</td>\n",
       "      <td>588101</td>\n",
       "      <td>588101</td>\n",
       "      <td>588101.000000</td>\n",
       "      <td>588101</td>\n",
       "      <td>588101.000000</td>\n",
       "    </tr>\n",
       "    <tr>\n",
       "      <th>unique</th>\n",
       "      <td>NaN</td>\n",
       "      <td>NaN</td>\n",
       "      <td>2</td>\n",
       "      <td>2</td>\n",
       "      <td>NaN</td>\n",
       "      <td>7</td>\n",
       "      <td>NaN</td>\n",
       "    </tr>\n",
       "    <tr>\n",
       "      <th>top</th>\n",
       "      <td>NaN</td>\n",
       "      <td>NaN</td>\n",
       "      <td>ad</td>\n",
       "      <td>False</td>\n",
       "      <td>NaN</td>\n",
       "      <td>Friday</td>\n",
       "      <td>NaN</td>\n",
       "    </tr>\n",
       "    <tr>\n",
       "      <th>freq</th>\n",
       "      <td>NaN</td>\n",
       "      <td>NaN</td>\n",
       "      <td>564577</td>\n",
       "      <td>573258</td>\n",
       "      <td>NaN</td>\n",
       "      <td>92608</td>\n",
       "      <td>NaN</td>\n",
       "    </tr>\n",
       "    <tr>\n",
       "      <th>mean</th>\n",
       "      <td>294050.000000</td>\n",
       "      <td>1.310692e+06</td>\n",
       "      <td>NaN</td>\n",
       "      <td>NaN</td>\n",
       "      <td>24.820876</td>\n",
       "      <td>NaN</td>\n",
       "      <td>14.469061</td>\n",
       "    </tr>\n",
       "    <tr>\n",
       "      <th>std</th>\n",
       "      <td>169770.279668</td>\n",
       "      <td>2.022260e+05</td>\n",
       "      <td>NaN</td>\n",
       "      <td>NaN</td>\n",
       "      <td>43.715181</td>\n",
       "      <td>NaN</td>\n",
       "      <td>4.834634</td>\n",
       "    </tr>\n",
       "    <tr>\n",
       "      <th>min</th>\n",
       "      <td>0.000000</td>\n",
       "      <td>9.000000e+05</td>\n",
       "      <td>NaN</td>\n",
       "      <td>NaN</td>\n",
       "      <td>1.000000</td>\n",
       "      <td>NaN</td>\n",
       "      <td>0.000000</td>\n",
       "    </tr>\n",
       "    <tr>\n",
       "      <th>25%</th>\n",
       "      <td>147025.000000</td>\n",
       "      <td>1.143190e+06</td>\n",
       "      <td>NaN</td>\n",
       "      <td>NaN</td>\n",
       "      <td>4.000000</td>\n",
       "      <td>NaN</td>\n",
       "      <td>11.000000</td>\n",
       "    </tr>\n",
       "    <tr>\n",
       "      <th>50%</th>\n",
       "      <td>294050.000000</td>\n",
       "      <td>1.313725e+06</td>\n",
       "      <td>NaN</td>\n",
       "      <td>NaN</td>\n",
       "      <td>13.000000</td>\n",
       "      <td>NaN</td>\n",
       "      <td>14.000000</td>\n",
       "    </tr>\n",
       "    <tr>\n",
       "      <th>75%</th>\n",
       "      <td>441075.000000</td>\n",
       "      <td>1.484088e+06</td>\n",
       "      <td>NaN</td>\n",
       "      <td>NaN</td>\n",
       "      <td>27.000000</td>\n",
       "      <td>NaN</td>\n",
       "      <td>18.000000</td>\n",
       "    </tr>\n",
       "    <tr>\n",
       "      <th>max</th>\n",
       "      <td>588100.000000</td>\n",
       "      <td>1.654483e+06</td>\n",
       "      <td>NaN</td>\n",
       "      <td>NaN</td>\n",
       "      <td>2065.000000</td>\n",
       "      <td>NaN</td>\n",
       "      <td>23.000000</td>\n",
       "    </tr>\n",
       "  </tbody>\n",
       "</table>\n",
       "</div>"
      ],
      "text/plain": [
       "           Unnamed: 0       user id test group converted      total ads  \\\n",
       "count   588101.000000  5.881010e+05     588101    588101  588101.000000   \n",
       "unique            NaN           NaN          2         2            NaN   \n",
       "top               NaN           NaN         ad     False            NaN   \n",
       "freq              NaN           NaN     564577    573258            NaN   \n",
       "mean    294050.000000  1.310692e+06        NaN       NaN      24.820876   \n",
       "std     169770.279668  2.022260e+05        NaN       NaN      43.715181   \n",
       "min          0.000000  9.000000e+05        NaN       NaN       1.000000   \n",
       "25%     147025.000000  1.143190e+06        NaN       NaN       4.000000   \n",
       "50%     294050.000000  1.313725e+06        NaN       NaN      13.000000   \n",
       "75%     441075.000000  1.484088e+06        NaN       NaN      27.000000   \n",
       "max     588100.000000  1.654483e+06        NaN       NaN    2065.000000   \n",
       "\n",
       "       most ads day  most ads hour  \n",
       "count        588101  588101.000000  \n",
       "unique            7            NaN  \n",
       "top          Friday            NaN  \n",
       "freq          92608            NaN  \n",
       "mean            NaN      14.469061  \n",
       "std             NaN       4.834634  \n",
       "min             NaN       0.000000  \n",
       "25%             NaN      11.000000  \n",
       "50%             NaN      14.000000  \n",
       "75%             NaN      18.000000  \n",
       "max             NaN      23.000000  "
      ]
     },
     "execution_count": 7,
     "metadata": {},
     "output_type": "execute_result"
    }
   ],
   "source": [
    "df.describe(include=\"all\")"
   ]
  },
  {
   "cell_type": "code",
   "execution_count": 8,
   "id": "05eaa12d",
   "metadata": {
    "execution": {
     "iopub.execute_input": "2023-07-12T21:26:26.501865Z",
     "iopub.status.busy": "2023-07-12T21:26:26.500993Z",
     "iopub.status.idle": "2023-07-12T21:26:26.509061Z",
     "shell.execute_reply": "2023-07-12T21:26:26.508051Z"
    },
    "papermill": {
     "duration": 0.035235,
     "end_time": "2023-07-12T21:26:26.511494",
     "exception": false,
     "start_time": "2023-07-12T21:26:26.476259",
     "status": "completed"
    },
    "tags": []
   },
   "outputs": [
    {
     "data": {
      "text/plain": [
       "Index(['Unnamed: 0', 'user id', 'test group', 'converted', 'total ads',\n",
       "       'most ads day', 'most ads hour'],\n",
       "      dtype='object')"
      ]
     },
     "execution_count": 8,
     "metadata": {},
     "output_type": "execute_result"
    }
   ],
   "source": [
    "df.columns"
   ]
  },
  {
   "cell_type": "markdown",
   "id": "c7d066c9",
   "metadata": {
    "papermill": {
     "duration": 0.021118,
     "end_time": "2023-07-12T21:26:26.554000",
     "exception": false,
     "start_time": "2023-07-12T21:26:26.532882",
     "status": "completed"
    },
    "tags": []
   },
   "source": [
    "# Data cleansing"
   ]
  },
  {
   "cell_type": "code",
   "execution_count": 9,
   "id": "889e5df8",
   "metadata": {
    "execution": {
     "iopub.execute_input": "2023-07-12T21:26:26.599406Z",
     "iopub.status.busy": "2023-07-12T21:26:26.598695Z",
     "iopub.status.idle": "2023-07-12T21:26:26.620670Z",
     "shell.execute_reply": "2023-07-12T21:26:26.619411Z"
    },
    "papermill": {
     "duration": 0.047899,
     "end_time": "2023-07-12T21:26:26.623719",
     "exception": false,
     "start_time": "2023-07-12T21:26:26.575820",
     "status": "completed"
    },
    "tags": []
   },
   "outputs": [],
   "source": [
    "if \"Unnamed: 0\" in df.columns:\n",
    "   \n",
    "    df = df.drop([\"Unnamed: 0\"], axis =1)"
   ]
  },
  {
   "cell_type": "code",
   "execution_count": 10,
   "id": "fc47cd18",
   "metadata": {
    "execution": {
     "iopub.execute_input": "2023-07-12T21:26:26.669045Z",
     "iopub.status.busy": "2023-07-12T21:26:26.667939Z",
     "iopub.status.idle": "2023-07-12T21:26:26.681016Z",
     "shell.execute_reply": "2023-07-12T21:26:26.680031Z"
    },
    "papermill": {
     "duration": 0.038284,
     "end_time": "2023-07-12T21:26:26.683389",
     "exception": false,
     "start_time": "2023-07-12T21:26:26.645105",
     "status": "completed"
    },
    "tags": []
   },
   "outputs": [
    {
     "data": {
      "text/html": [
       "<div>\n",
       "<style scoped>\n",
       "    .dataframe tbody tr th:only-of-type {\n",
       "        vertical-align: middle;\n",
       "    }\n",
       "\n",
       "    .dataframe tbody tr th {\n",
       "        vertical-align: top;\n",
       "    }\n",
       "\n",
       "    .dataframe thead th {\n",
       "        text-align: right;\n",
       "    }\n",
       "</style>\n",
       "<table border=\"1\" class=\"dataframe\">\n",
       "  <thead>\n",
       "    <tr style=\"text-align: right;\">\n",
       "      <th></th>\n",
       "      <th>user_id</th>\n",
       "      <th>test_group</th>\n",
       "      <th>converted</th>\n",
       "      <th>total_ads</th>\n",
       "      <th>most_ads_day</th>\n",
       "      <th>most_ads_hour</th>\n",
       "    </tr>\n",
       "  </thead>\n",
       "  <tbody>\n",
       "    <tr>\n",
       "      <th>0</th>\n",
       "      <td>1069124</td>\n",
       "      <td>ad</td>\n",
       "      <td>False</td>\n",
       "      <td>130</td>\n",
       "      <td>Monday</td>\n",
       "      <td>20</td>\n",
       "    </tr>\n",
       "  </tbody>\n",
       "</table>\n",
       "</div>"
      ],
      "text/plain": [
       "   user_id test_group  converted  total_ads most_ads_day  most_ads_hour\n",
       "0  1069124         ad      False        130       Monday             20"
      ]
     },
     "execution_count": 10,
     "metadata": {},
     "output_type": "execute_result"
    }
   ],
   "source": [
    "df.rename(columns=lambda x: x.strip().replace(\" \", \"_\"), inplace=True)\n",
    "df.head(1)"
   ]
  },
  {
   "cell_type": "code",
   "execution_count": 11,
   "id": "cd13f340",
   "metadata": {
    "execution": {
     "iopub.execute_input": "2023-07-12T21:26:26.728460Z",
     "iopub.status.busy": "2023-07-12T21:26:26.727584Z",
     "iopub.status.idle": "2023-07-12T21:26:26.950623Z",
     "shell.execute_reply": "2023-07-12T21:26:26.949459Z"
    },
    "papermill": {
     "duration": 0.248535,
     "end_time": "2023-07-12T21:26:26.953286",
     "exception": false,
     "start_time": "2023-07-12T21:26:26.704751",
     "status": "completed"
    },
    "tags": []
   },
   "outputs": [
    {
     "name": "stdout",
     "output_type": "stream",
     "text": [
      "False\n"
     ]
    }
   ],
   "source": [
    "#duplicate rows?\n",
    "dups = df.duplicated()\n",
    "print(dups.any())"
   ]
  },
  {
   "cell_type": "code",
   "execution_count": 12,
   "id": "2c0b26e3",
   "metadata": {
    "execution": {
     "iopub.execute_input": "2023-07-12T21:26:26.998302Z",
     "iopub.status.busy": "2023-07-12T21:26:26.997855Z",
     "iopub.status.idle": "2023-07-12T21:26:27.029255Z",
     "shell.execute_reply": "2023-07-12T21:26:27.028360Z"
    },
    "papermill": {
     "duration": 0.056843,
     "end_time": "2023-07-12T21:26:27.031704",
     "exception": false,
     "start_time": "2023-07-12T21:26:26.974861",
     "status": "completed"
    },
    "tags": []
   },
   "outputs": [
    {
     "data": {
      "text/plain": [
       "user_id          0\n",
       "test_group       0\n",
       "converted        0\n",
       "total_ads        0\n",
       "most_ads_day     0\n",
       "most_ads_hour    0\n",
       "dtype: int64"
      ]
     },
     "execution_count": 12,
     "metadata": {},
     "output_type": "execute_result"
    }
   ],
   "source": [
    "#duplicated user_id?\n",
    "df[df[\"user_id\"].duplicated()].count()"
   ]
  },
  {
   "cell_type": "code",
   "execution_count": 13,
   "id": "3a7f37e5",
   "metadata": {
    "execution": {
     "iopub.execute_input": "2023-07-12T21:26:27.077326Z",
     "iopub.status.busy": "2023-07-12T21:26:27.076602Z",
     "iopub.status.idle": "2023-07-12T21:26:27.609272Z",
     "shell.execute_reply": "2023-07-12T21:26:27.607991Z"
    },
    "papermill": {
     "duration": 0.55862,
     "end_time": "2023-07-12T21:26:27.611970",
     "exception": false,
     "start_time": "2023-07-12T21:26:27.053350",
     "status": "completed"
    },
    "tags": []
   },
   "outputs": [
    {
     "name": "stdout",
     "output_type": "stream",
     "text": [
      "Rows            : 588101\n",
      "Columns         : 6\n",
      "Features        : ['user_id', 'test_group', 'converted', 'total_ads', 'most_ads_day', 'most_ads_hour']\n",
      "Missing Values  : 0\n",
      "Unique Values   : \n",
      "\n",
      "user_id          588101\n",
      "test_group            2\n",
      "converted             2\n",
      "total_ads           807\n",
      "most_ads_day          7\n",
      "most_ads_hour        24\n",
      "dtype: int64\n"
     ]
    }
   ],
   "source": [
    "print(f'Rows            : {df.shape[0]}')\n",
    "print(f'Columns         : {df.shape[1]}')\n",
    "print(f'Features        : {df.columns.tolist()}')\n",
    "print(f'Missing Values  : {df.isnull().values.sum()}')\n",
    "print(f'Unique Values   : \\n\\n{df.nunique()}')"
   ]
  },
  {
   "cell_type": "code",
   "execution_count": 14,
   "id": "42a2263a",
   "metadata": {
    "execution": {
     "iopub.execute_input": "2023-07-12T21:26:27.660425Z",
     "iopub.status.busy": "2023-07-12T21:26:27.659680Z",
     "iopub.status.idle": "2023-07-12T21:26:28.045215Z",
     "shell.execute_reply": "2023-07-12T21:26:28.043996Z"
    },
    "papermill": {
     "duration": 0.413024,
     "end_time": "2023-07-12T21:26:28.047980",
     "exception": false,
     "start_time": "2023-07-12T21:26:27.634956",
     "status": "completed"
    },
    "tags": []
   },
   "outputs": [
    {
     "data": {
      "text/plain": [
       "user_id          False\n",
       "test_group       False\n",
       "converted        False\n",
       "total_ads        False\n",
       "most_ads_day     False\n",
       "most_ads_hour    False\n",
       "dtype: bool"
      ]
     },
     "execution_count": 14,
     "metadata": {},
     "output_type": "execute_result"
    }
   ],
   "source": [
    "df.isnull().any()"
   ]
  },
  {
   "cell_type": "code",
   "execution_count": 15,
   "id": "a7eb159b",
   "metadata": {
    "execution": {
     "iopub.execute_input": "2023-07-12T21:26:28.094750Z",
     "iopub.status.busy": "2023-07-12T21:26:28.094333Z",
     "iopub.status.idle": "2023-07-12T21:26:28.564697Z",
     "shell.execute_reply": "2023-07-12T21:26:28.563644Z"
    },
    "papermill": {
     "duration": 0.496343,
     "end_time": "2023-07-12T21:26:28.567255",
     "exception": false,
     "start_time": "2023-07-12T21:26:28.070912",
     "status": "completed"
    },
    "tags": []
   },
   "outputs": [
    {
     "data": {
      "text/plain": [
       "14843"
      ]
     },
     "execution_count": 15,
     "metadata": {},
     "output_type": "execute_result"
    }
   ],
   "source": [
    "df[\"converted_int\"] = df['converted'].apply(lambda x:1 if x== True  else  0)\n",
    "df[\"converted_int\"].sum()"
   ]
  },
  {
   "cell_type": "code",
   "execution_count": 16,
   "id": "5410f24c",
   "metadata": {
    "execution": {
     "iopub.execute_input": "2023-07-12T21:26:28.614688Z",
     "iopub.status.busy": "2023-07-12T21:26:28.613280Z",
     "iopub.status.idle": "2023-07-12T21:26:28.627616Z",
     "shell.execute_reply": "2023-07-12T21:26:28.626349Z"
    },
    "papermill": {
     "duration": 0.040737,
     "end_time": "2023-07-12T21:26:28.630277",
     "exception": false,
     "start_time": "2023-07-12T21:26:28.589540",
     "status": "completed"
    },
    "tags": []
   },
   "outputs": [
    {
     "data": {
      "text/html": [
       "<div>\n",
       "<style scoped>\n",
       "    .dataframe tbody tr th:only-of-type {\n",
       "        vertical-align: middle;\n",
       "    }\n",
       "\n",
       "    .dataframe tbody tr th {\n",
       "        vertical-align: top;\n",
       "    }\n",
       "\n",
       "    .dataframe thead th {\n",
       "        text-align: right;\n",
       "    }\n",
       "</style>\n",
       "<table border=\"1\" class=\"dataframe\">\n",
       "  <thead>\n",
       "    <tr style=\"text-align: right;\">\n",
       "      <th></th>\n",
       "      <th>user_id</th>\n",
       "      <th>test_group</th>\n",
       "      <th>converted</th>\n",
       "      <th>total_ads</th>\n",
       "      <th>most_ads_day</th>\n",
       "      <th>most_ads_hour</th>\n",
       "      <th>converted_int</th>\n",
       "    </tr>\n",
       "  </thead>\n",
       "  <tbody>\n",
       "    <tr>\n",
       "      <th>0</th>\n",
       "      <td>1069124</td>\n",
       "      <td>ad</td>\n",
       "      <td>False</td>\n",
       "      <td>130</td>\n",
       "      <td>Monday</td>\n",
       "      <td>20</td>\n",
       "      <td>0</td>\n",
       "    </tr>\n",
       "    <tr>\n",
       "      <th>1</th>\n",
       "      <td>1119715</td>\n",
       "      <td>ad</td>\n",
       "      <td>False</td>\n",
       "      <td>93</td>\n",
       "      <td>Tuesday</td>\n",
       "      <td>22</td>\n",
       "      <td>0</td>\n",
       "    </tr>\n",
       "    <tr>\n",
       "      <th>2</th>\n",
       "      <td>1144181</td>\n",
       "      <td>ad</td>\n",
       "      <td>False</td>\n",
       "      <td>21</td>\n",
       "      <td>Tuesday</td>\n",
       "      <td>18</td>\n",
       "      <td>0</td>\n",
       "    </tr>\n",
       "    <tr>\n",
       "      <th>3</th>\n",
       "      <td>1435133</td>\n",
       "      <td>ad</td>\n",
       "      <td>False</td>\n",
       "      <td>355</td>\n",
       "      <td>Tuesday</td>\n",
       "      <td>10</td>\n",
       "      <td>0</td>\n",
       "    </tr>\n",
       "    <tr>\n",
       "      <th>4</th>\n",
       "      <td>1015700</td>\n",
       "      <td>ad</td>\n",
       "      <td>False</td>\n",
       "      <td>276</td>\n",
       "      <td>Friday</td>\n",
       "      <td>14</td>\n",
       "      <td>0</td>\n",
       "    </tr>\n",
       "  </tbody>\n",
       "</table>\n",
       "</div>"
      ],
      "text/plain": [
       "   user_id test_group  converted  total_ads most_ads_day  most_ads_hour  \\\n",
       "0  1069124         ad      False        130       Monday             20   \n",
       "1  1119715         ad      False         93      Tuesday             22   \n",
       "2  1144181         ad      False         21      Tuesday             18   \n",
       "3  1435133         ad      False        355      Tuesday             10   \n",
       "4  1015700         ad      False        276       Friday             14   \n",
       "\n",
       "   converted_int  \n",
       "0              0  \n",
       "1              0  \n",
       "2              0  \n",
       "3              0  \n",
       "4              0  "
      ]
     },
     "execution_count": 16,
     "metadata": {},
     "output_type": "execute_result"
    }
   ],
   "source": [
    "df.head(5)"
   ]
  },
  {
   "cell_type": "markdown",
   "id": "dee9243c",
   "metadata": {
    "papermill": {
     "duration": 0.022334,
     "end_time": "2023-07-12T21:26:28.674977",
     "exception": false,
     "start_time": "2023-07-12T21:26:28.652643",
     "status": "completed"
    },
    "tags": []
   },
   "source": [
    "# EDA"
   ]
  },
  {
   "cell_type": "code",
   "execution_count": 17,
   "id": "18069a23",
   "metadata": {
    "execution": {
     "iopub.execute_input": "2023-07-12T21:26:28.722203Z",
     "iopub.status.busy": "2023-07-12T21:26:28.721757Z",
     "iopub.status.idle": "2023-07-12T21:26:28.727861Z",
     "shell.execute_reply": "2023-07-12T21:26:28.726666Z"
    },
    "papermill": {
     "duration": 0.033113,
     "end_time": "2023-07-12T21:26:28.730609",
     "exception": false,
     "start_time": "2023-07-12T21:26:28.697496",
     "status": "completed"
    },
    "tags": []
   },
   "outputs": [],
   "source": [
    "def val_count(column):\n",
    "    plt.figure(figsize=(7,5))\n",
    "    sns.countplot(data=df, x=column)\n",
    "    plt.title(f'Value Count - {column}')\n",
    "    plt.show()\n",
    "\n",
    "    #print(df[column].value_counts())"
   ]
  },
  {
   "cell_type": "code",
   "execution_count": 18,
   "id": "e3f4824a",
   "metadata": {
    "execution": {
     "iopub.execute_input": "2023-07-12T21:26:28.778258Z",
     "iopub.status.busy": "2023-07-12T21:26:28.777781Z",
     "iopub.status.idle": "2023-07-12T21:26:31.453215Z",
     "shell.execute_reply": "2023-07-12T21:26:31.451968Z"
    },
    "papermill": {
     "duration": 2.702644,
     "end_time": "2023-07-12T21:26:31.455936",
     "exception": false,
     "start_time": "2023-07-12T21:26:28.753292",
     "status": "completed"
    },
    "tags": []
   },
   "outputs": [
    {
     "data": {
      "image/png": "[encoded data removed]",
      "text/plain": [
       "<Figure size 700x500 with 1 Axes>"
      ]
     },
     "metadata": {},
     "output_type": "display_data"
    },
    {
     "data": {
      "image/png": "[encoded data removed]",
      "text/plain": [
       "<Figure size 700x500 with 1 Axes>"
      ]
     },
     "metadata": {},
     "output_type": "display_data"
    },
    {
     "data": {
      "image/png": "[encoded data removed]",
      "text/plain": [
       "<Figure size 700x500 with 1 Axes>"
      ]
     },
     "metadata": {},
     "output_type": "display_data"
    },
    {
     "data": {
      "image/png": "[encoded data removed]",
      "text/plain": [
       "<Figure size 700x500 with 1 Axes>"
      ]
     },
     "metadata": {},
     "output_type": "display_data"
    }
   ],
   "source": [
    "#create columns of interest\n",
    "col_lst = df.columns[[1,2,4,5]]\n",
    "\n",
    "#loop through columns of interest\n",
    "for i in col_lst:\n",
    "    val_count(i)"
   ]
  },
  {
   "cell_type": "markdown",
   "id": "3daf93b6",
   "metadata": {
    "papermill": {
     "duration": 0.024101,
     "end_time": "2023-07-12T21:26:31.505359",
     "exception": false,
     "start_time": "2023-07-12T21:26:31.481258",
     "status": "completed"
    },
    "tags": []
   },
   "source": [
    "the majority of users saw the ads compared to those saw the psa\n",
    "\n",
    "the most ads seen by a user occurred on Friday and then Monday\n",
    "\n",
    "between 10AM and 3PM, users saw the most ads"
   ]
  },
  {
   "cell_type": "code",
   "execution_count": 19,
   "id": "a489c035",
   "metadata": {
    "execution": {
     "iopub.execute_input": "2023-07-12T21:26:31.556818Z",
     "iopub.status.busy": "2023-07-12T21:26:31.555984Z",
     "iopub.status.idle": "2023-07-12T21:26:31.840216Z",
     "shell.execute_reply": "2023-07-12T21:26:31.838474Z"
    },
    "papermill": {
     "duration": 0.314993,
     "end_time": "2023-07-12T21:26:31.844743",
     "exception": false,
     "start_time": "2023-07-12T21:26:31.529750",
     "status": "completed"
    },
    "tags": []
   },
   "outputs": [
    {
     "data": {
      "image/png": "[encoded data removed]",
      "text/plain": [
       "<Figure size 300x300 with 1 Axes>"
      ]
     },
     "metadata": {},
     "output_type": "display_data"
    }
   ],
   "source": [
    "grouped_counts = df.groupby('test_group')['converted'].value_counts()\n",
    "grouped_counts\n",
    "\n",
    "# Plot the data as a pie chart\n",
    "grouped_counts.plot.pie(figsize= (3,3),autopct='%1.1f%%')\n",
    "\n",
    "# Set the title and axis labels\n",
    "plt.title('Distribution of Converted by Test Group')\n",
    "plt.ylabel('')\n",
    "\n",
    "# Show the plot\n",
    "plt.show()\n"
   ]
  },
  {
   "cell_type": "code",
   "execution_count": 20,
   "id": "8c1324e1",
   "metadata": {
    "execution": {
     "iopub.execute_input": "2023-07-12T21:26:31.925990Z",
     "iopub.status.busy": "2023-07-12T21:26:31.925130Z",
     "iopub.status.idle": "2023-07-12T21:26:32.429858Z",
     "shell.execute_reply": "2023-07-12T21:26:32.428437Z"
    },
    "papermill": {
     "duration": 0.534835,
     "end_time": "2023-07-12T21:26:32.432592",
     "exception": false,
     "start_time": "2023-07-12T21:26:31.897757",
     "status": "completed"
    },
    "tags": []
   },
   "outputs": [
    {
     "data": {
      "image/png": "[encoded data removed]",
      "text/plain": [
       "<Figure size 400x300 with 1 Axes>"
      ]
     },
     "metadata": {},
     "output_type": "display_data"
    }
   ],
   "source": [
    "ax =df.groupby(by =['most_ads_day', 'test_group']).sum()['converted_int'].unstack('test_group').plot(kind= 'bar', figsize= (4,3), grid= True, stacked= True)\n",
    "ax.set_ylabel('converted_int')\n",
    "ax.set_title('Most ad days and converted_int')\n",
    "plt.show()"
   ]
  },
  {
   "cell_type": "code",
   "execution_count": 21,
   "id": "621d85f8",
   "metadata": {
    "execution": {
     "iopub.execute_input": "2023-07-12T21:26:32.486840Z",
     "iopub.status.busy": "2023-07-12T21:26:32.486414Z",
     "iopub.status.idle": "2023-07-12T21:26:32.886891Z",
     "shell.execute_reply": "2023-07-12T21:26:32.885672Z"
    },
    "papermill": {
     "duration": 0.430816,
     "end_time": "2023-07-12T21:26:32.889607",
     "exception": false,
     "start_time": "2023-07-12T21:26:32.458791",
     "status": "completed"
    },
    "tags": []
   },
   "outputs": [
    {
     "data": {
      "image/png": "[encoded data removed]",
      "text/plain": [
       "<Figure size 500x300 with 1 Axes>"
      ]
     },
     "metadata": {},
     "output_type": "display_data"
    }
   ],
   "source": [
    "#visualize conversion by day\n",
    "df_day_conv = pd.DataFrame(df.groupby('most_ads_day')['converted'].mean())\n",
    "df_day_conv.reset_index(inplace=True)\n",
    "\n",
    "plt.figure(figsize=(5,3))\n",
    "plt.bar(data=df_day_conv, x='most_ads_day', height='converted')\n",
    "plt.title('Conversion Rate by Day')\n",
    "plt.axhline(df['converted'].mean(), color='r', linestyle='--', label='average')\n",
    "plt.legend()\n",
    "plt.show()"
   ]
  },
  {
   "cell_type": "markdown",
   "id": "e9ae8cad",
   "metadata": {
    "papermill": {
     "duration": 0.027017,
     "end_time": "2023-07-12T21:26:32.943602",
     "exception": false,
     "start_time": "2023-07-12T21:26:32.916585",
     "status": "completed"
    },
    "tags": []
   },
   "source": [
    "# AB test"
   ]
  },
  {
   "cell_type": "markdown",
   "id": "fbaa81e4",
   "metadata": {
    "papermill": {
     "duration": 0.025556,
     "end_time": "2023-07-12T21:26:32.995209",
     "exception": false,
     "start_time": "2023-07-12T21:26:32.969653",
     "status": "completed"
    },
    "tags": []
   },
   "source": [
    "### Minimum Sample Size"
   ]
  },
  {
   "cell_type": "code",
   "execution_count": 22,
   "id": "87860264",
   "metadata": {
    "execution": {
     "iopub.execute_input": "2023-07-12T21:26:33.048751Z",
     "iopub.status.busy": "2023-07-12T21:26:33.048352Z",
     "iopub.status.idle": "2023-07-12T21:26:33.055331Z",
     "shell.execute_reply": "2023-07-12T21:26:33.054197Z"
    },
    "papermill": {
     "duration": 0.036606,
     "end_time": "2023-07-12T21:26:33.057722",
     "exception": false,
     "start_time": "2023-07-12T21:26:33.021116",
     "status": "completed"
    },
    "tags": []
   },
   "outputs": [],
   "source": [
    "import math\n",
    "\n",
    "def sample_size_calculator(population_size, confidence_level, margin_of_error):\n",
    "    z_score = {\n",
    "        0.90: 1.645,\n",
    "        0.95: 1.96,\n",
    "        0.99: 2.576\n",
    "    }\n",
    "    \n",
    "    z = z_score[confidence_level]\n",
    "    p = 0.5 # assuming 50% for a conservative estimate of the sample size\n",
    "    q = 1 - p\n",
    "    \n",
    "    sample_size = ((z**2) * p * q * population_size) / ((z**2 * q) + ((margin_of_error**2) * (population_size - 1)))\n",
    "    return math.ceil(sample_size)"
   ]
  },
  {
   "cell_type": "code",
   "execution_count": 23,
   "id": "2528df77",
   "metadata": {
    "execution": {
     "iopub.execute_input": "2023-07-12T21:26:33.111658Z",
     "iopub.status.busy": "2023-07-12T21:26:33.111215Z",
     "iopub.status.idle": "2023-07-12T21:26:33.117835Z",
     "shell.execute_reply": "2023-07-12T21:26:33.116645Z"
    },
    "papermill": {
     "duration": 0.037324,
     "end_time": "2023-07-12T21:26:33.120992",
     "exception": false,
     "start_time": "2023-07-12T21:26:33.083668",
     "status": "completed"
    },
    "tags": []
   },
   "outputs": [
    {
     "name": "stdout",
     "output_type": "stream",
     "text": [
      "The population size is :588101 \n",
      "The required sample size is: 1832\n"
     ]
    }
   ],
   "source": [
    "#compute sample size \n",
    "pop_size = df.shape[0]\n",
    "conf_level = 0.99\n",
    "margin_err = 0.03\n",
    "\n",
    "sample_size = sample_size_calculator(pop_size, conf_level, margin_err)\n",
    "print(f\"The population size is :{pop_size} \\nThe required sample size is: {sample_size}\")"
   ]
  },
  {
   "cell_type": "code",
   "execution_count": 24,
   "id": "8694caaa",
   "metadata": {
    "execution": {
     "iopub.execute_input": "2023-07-12T21:26:33.176982Z",
     "iopub.status.busy": "2023-07-12T21:26:33.176537Z",
     "iopub.status.idle": "2023-07-12T21:26:33.313777Z",
     "shell.execute_reply": "2023-07-12T21:26:33.312597Z"
    },
    "papermill": {
     "duration": 0.169302,
     "end_time": "2023-07-12T21:26:33.316667",
     "exception": false,
     "start_time": "2023-07-12T21:26:33.147365",
     "status": "completed"
    },
    "tags": []
   },
   "outputs": [],
   "source": [
    "treatment = df.query('test_group == \"ad\"')\n",
    "control = df.query('test_group == \"psa\"')\n"
   ]
  },
  {
   "cell_type": "code",
   "execution_count": 25,
   "id": "ceb345df",
   "metadata": {
    "execution": {
     "iopub.execute_input": "2023-07-12T21:26:33.371365Z",
     "iopub.status.busy": "2023-07-12T21:26:33.370853Z",
     "iopub.status.idle": "2023-07-12T21:26:33.379025Z",
     "shell.execute_reply": "2023-07-12T21:26:33.378008Z"
    },
    "papermill": {
     "duration": 0.038393,
     "end_time": "2023-07-12T21:26:33.381595",
     "exception": false,
     "start_time": "2023-07-12T21:26:33.343202",
     "status": "completed"
    },
    "tags": []
   },
   "outputs": [
    {
     "data": {
      "text/plain": [
       "2.523886203220195"
      ]
     },
     "execution_count": 25,
     "metadata": {},
     "output_type": "execute_result"
    }
   ],
   "source": [
    "df.converted.mean() *100"
   ]
  },
  {
   "cell_type": "code",
   "execution_count": 26,
   "id": "dd156726",
   "metadata": {
    "execution": {
     "iopub.execute_input": "2023-07-12T21:26:33.437214Z",
     "iopub.status.busy": "2023-07-12T21:26:33.436775Z",
     "iopub.status.idle": "2023-07-12T21:26:33.444371Z",
     "shell.execute_reply": "2023-07-12T21:26:33.443186Z"
    },
    "papermill": {
     "duration": 0.038735,
     "end_time": "2023-07-12T21:26:33.446851",
     "exception": false,
     "start_time": "2023-07-12T21:26:33.408116",
     "status": "completed"
    },
    "tags": []
   },
   "outputs": [
    {
     "data": {
      "text/plain": [
       "0.01785410644448223"
      ]
     },
     "execution_count": 26,
     "metadata": {},
     "output_type": "execute_result"
    }
   ],
   "source": [
    "control[\"converted\"].mean()\n"
   ]
  },
  {
   "cell_type": "code",
   "execution_count": 27,
   "id": "eaaed058",
   "metadata": {
    "execution": {
     "iopub.execute_input": "2023-07-12T21:26:33.507647Z",
     "iopub.status.busy": "2023-07-12T21:26:33.507216Z",
     "iopub.status.idle": "2023-07-12T21:26:33.514834Z",
     "shell.execute_reply": "2023-07-12T21:26:33.513613Z"
    },
    "papermill": {
     "duration": 0.04283,
     "end_time": "2023-07-12T21:26:33.517025",
     "exception": false,
     "start_time": "2023-07-12T21:26:33.474195",
     "status": "completed"
    },
    "tags": []
   },
   "outputs": [
    {
     "data": {
      "text/plain": [
       "0.025546559636683747"
      ]
     },
     "execution_count": 27,
     "metadata": {},
     "output_type": "execute_result"
    }
   ],
   "source": [
    "treatment[\"converted\"].mean()"
   ]
  },
  {
   "cell_type": "markdown",
   "id": "2641d795",
   "metadata": {
    "papermill": {
     "duration": 0.027231,
     "end_time": "2023-07-12T21:26:33.570761",
     "exception": false,
     "start_time": "2023-07-12T21:26:33.543530",
     "status": "completed"
    },
    "tags": []
   },
   "source": [
    "you can see the the mean of converted in treatment group is more than control group \n",
    "which make the hypothsis of ad has positive effect on conversion "
   ]
  },
  {
   "cell_type": "code",
   "execution_count": 28,
   "id": "6c9f2912",
   "metadata": {
    "execution": {
     "iopub.execute_input": "2023-07-12T21:26:33.626450Z",
     "iopub.status.busy": "2023-07-12T21:26:33.626001Z",
     "iopub.status.idle": "2023-07-12T21:26:34.017722Z",
     "shell.execute_reply": "2023-07-12T21:26:34.016342Z"
    },
    "papermill": {
     "duration": 0.423126,
     "end_time": "2023-07-12T21:26:34.020654",
     "exception": false,
     "start_time": "2023-07-12T21:26:33.597528",
     "status": "completed"
    },
    "tags": []
   },
   "outputs": [
    {
     "data": {
      "text/plain": [
       "(array([  4.,   8.,   8.,  12.,  19.,  31.,  37.,  45.,  74., 109., 156.,\n",
       "        173., 246., 269., 317., 457., 454., 509., 598., 613., 627., 609.,\n",
       "        562., 619., 547., 514., 483., 382., 374., 260., 211., 185., 150.,\n",
       "        104.,  70.,  57.,  32.,  28.,  17.,  13.,   4.,   5.,   3.,   0.,\n",
       "          2.,   1.,   1.,   0.,   0.,   1.]),\n",
       " array([0.02452633, 0.02455934, 0.02459236, 0.02462537, 0.02465839,\n",
       "        0.02469141, 0.02472442, 0.02475744, 0.02479045, 0.02482347,\n",
       "        0.02485649, 0.0248895 , 0.02492252, 0.02495553, 0.02498855,\n",
       "        0.02502156, 0.02505458, 0.0250876 , 0.02512061, 0.02515363,\n",
       "        0.02518664, 0.02521966, 0.02525268, 0.02528569, 0.02531871,\n",
       "        0.02535172, 0.02538474, 0.02541776, 0.02545077, 0.02548379,\n",
       "        0.0255168 , 0.02554982, 0.02558283, 0.02561585, 0.02564887,\n",
       "        0.02568188, 0.0257149 , 0.02574791, 0.02578093, 0.02581395,\n",
       "        0.02584696, 0.02587998, 0.02591299, 0.02594601, 0.02597903,\n",
       "        0.02601204, 0.02604506, 0.02607807, 0.02611109, 0.0261441 ,\n",
       "        0.02617712]),\n",
       " <BarContainer object of 50 artists>)"
      ]
     },
     "execution_count": 28,
     "metadata": {},
     "output_type": "execute_result"
    },
    {
     "data": {
      "image/png": "[encoded data removed]",
      "text/plain": [
       "<Figure size 640x480 with 1 Axes>"
      ]
     },
     "metadata": {},
     "output_type": "display_data"
    }
   ],
   "source": [
    "ad_converted = np.random.binomial(len(treatment),\n",
    "                                  df.converted.mean(), 10000) / len(treatment)\n",
    "\n",
    "plt.hist(ad_converted, bins=50)"
   ]
  },
  {
   "cell_type": "code",
   "execution_count": 29,
   "id": "4f2c9cab",
   "metadata": {
    "execution": {
     "iopub.execute_input": "2023-07-12T21:26:34.078929Z",
     "iopub.status.busy": "2023-07-12T21:26:34.078435Z",
     "iopub.status.idle": "2023-07-12T21:26:34.455763Z",
     "shell.execute_reply": "2023-07-12T21:26:34.454572Z"
    },
    "papermill": {
     "duration": 0.409304,
     "end_time": "2023-07-12T21:26:34.458591",
     "exception": false,
     "start_time": "2023-07-12T21:26:34.049287",
     "status": "completed"
    },
    "tags": []
   },
   "outputs": [
    {
     "data": {
      "text/plain": [
       "(array([  1.,   0.,   0.,   0.,   0.,   0.,   3.,   3.,   3.,  10.,  18.,\n",
       "         18.,  28.,  41.,  86.,  93., 157., 188., 217., 314., 378., 542.,\n",
       "        514., 556., 617., 644., 620., 717., 782., 624., 587., 470., 406.,\n",
       "        340., 261., 273., 153.,  93.,  84.,  54.,  50.,  25.,  17.,   0.,\n",
       "          3.,   3.,   3.,   2.,   1.,   1.]),\n",
       " array([0.02053222, 0.02070821, 0.0208842 , 0.02106019, 0.02123618,\n",
       "        0.02141217, 0.02158817, 0.02176416, 0.02194015, 0.02211614,\n",
       "        0.02229213, 0.02246812, 0.02264411, 0.0228201 , 0.02299609,\n",
       "        0.02317208, 0.02334807, 0.02352406, 0.02370005, 0.02387604,\n",
       "        0.02405203, 0.02422802, 0.02440401, 0.02458   , 0.02475599,\n",
       "        0.02493198, 0.02510797, 0.02528397, 0.02545996, 0.02563595,\n",
       "        0.02581194, 0.02598793, 0.02616392, 0.02633991, 0.0265159 ,\n",
       "        0.02669189, 0.02686788, 0.02704387, 0.02721986, 0.02739585,\n",
       "        0.02757184, 0.02774783, 0.02792382, 0.02809981, 0.0282758 ,\n",
       "        0.02845179, 0.02862778, 0.02880377, 0.02897977, 0.02915576,\n",
       "        0.02933175]),\n",
       " <BarContainer object of 50 artists>)"
      ]
     },
     "execution_count": 29,
     "metadata": {},
     "output_type": "execute_result"
    },
    {
     "data": {
      "image/png": "[encoded data removed]",
      "text/plain": [
       "<Figure size 640x480 with 1 Axes>"
      ]
     },
     "metadata": {},
     "output_type": "display_data"
    }
   ],
   "source": [
    "psa_converted = np.random.binomial(len(control),\n",
    "                                   df.converted.mean(), 10000) / len(control)\n",
    "\n",
    "plt.hist(psa_converted, bins=50 ,align = 'mid' , data=None)"
   ]
  },
  {
   "cell_type": "code",
   "execution_count": 30,
   "id": "6fb77ce4",
   "metadata": {
    "execution": {
     "iopub.execute_input": "2023-07-12T21:26:34.516126Z",
     "iopub.status.busy": "2023-07-12T21:26:34.515704Z",
     "iopub.status.idle": "2023-07-12T21:26:34.524205Z",
     "shell.execute_reply": "2023-07-12T21:26:34.522884Z"
    },
    "papermill": {
     "duration": 0.040489,
     "end_time": "2023-07-12T21:26:34.526733",
     "exception": false,
     "start_time": "2023-07-12T21:26:34.486244",
     "status": "completed"
    },
    "tags": []
   },
   "outputs": [
    {
     "data": {
      "text/plain": [
       "-3.7186037179526775e-06"
      ]
     },
     "execution_count": 30,
     "metadata": {},
     "output_type": "execute_result"
    }
   ],
   "source": [
    "p_diffs = ad_converted - psa_converted\n",
    "p_diffs\n",
    "p_diffs.mean()"
   ]
  },
  {
   "cell_type": "code",
   "execution_count": 31,
   "id": "57097b35",
   "metadata": {
    "execution": {
     "iopub.execute_input": "2023-07-12T21:26:34.585233Z",
     "iopub.status.busy": "2023-07-12T21:26:34.583963Z",
     "iopub.status.idle": "2023-07-12T21:26:34.593678Z",
     "shell.execute_reply": "2023-07-12T21:26:34.592343Z"
    },
    "papermill": {
     "duration": 0.041551,
     "end_time": "2023-07-12T21:26:34.596167",
     "exception": false,
     "start_time": "2023-07-12T21:26:34.554616",
     "status": "completed"
    },
    "tags": []
   },
   "outputs": [
    {
     "data": {
      "text/plain": [
       "0.007692453192201517"
      ]
     },
     "execution_count": 31,
     "metadata": {},
     "output_type": "execute_result"
    }
   ],
   "source": [
    "#real diff\n",
    "# customer who is shown ads bought less\n",
    "ab_data_diff = treatment['converted'].mean() - control['converted'].mean()\n",
    "ab_data_diff"
   ]
  },
  {
   "cell_type": "markdown",
   "id": "b4229234",
   "metadata": {
    "papermill": {
     "duration": 0.027547,
     "end_time": "2023-07-12T21:26:34.651866",
     "exception": false,
     "start_time": "2023-07-12T21:26:34.624319",
     "status": "completed"
    },
    "tags": []
   },
   "source": [
    "\n",
    "Does showing ads to people lead to more purchases? Is this statistically significant or not?\n",
    "Null Hypothesis (H0): Showing ads has no significant effect on the number of purchases.\n",
    "Alternative Hypothesis (H1): Showing ads has a significant effect on the number of purchases."
   ]
  },
  {
   "cell_type": "code",
   "execution_count": null,
   "id": "af8bf43f",
   "metadata": {
    "papermill": {
     "duration": 0.027818,
     "end_time": "2023-07-12T21:26:34.707428",
     "exception": false,
     "start_time": "2023-07-12T21:26:34.679610",
     "status": "completed"
    },
    "tags": []
   },
   "outputs": [],
   "source": []
  },
  {
   "cell_type": "code",
   "execution_count": 32,
   "id": "fe6249b7",
   "metadata": {
    "execution": {
     "iopub.execute_input": "2023-07-12T21:26:34.766867Z",
     "iopub.status.busy": "2023-07-12T21:26:34.766093Z",
     "iopub.status.idle": "2023-07-12T21:26:34.774595Z",
     "shell.execute_reply": "2023-07-12T21:26:34.773013Z"
    },
    "papermill": {
     "duration": 0.041023,
     "end_time": "2023-07-12T21:26:34.777100",
     "exception": false,
     "start_time": "2023-07-12T21:26:34.736077",
     "status": "completed"
    },
    "tags": []
   },
   "outputs": [
    {
     "name": "stdout",
     "output_type": "stream",
     "text": [
      "p_value =  0.0\n",
      "Reject the null hypothesis. There is a significant difference between the two groups.\n"
     ]
    }
   ],
   "source": [
    "# is buying less is \n",
    "if ab_data_diff > 0 : \n",
    "    p_value = (p_diffs > ab_data_diff).mean() * 100\n",
    "else :\n",
    "    p_value = (p_diffs <= ab_data_diff).mean() * 100\n",
    "print ( \"p_value = \" ,p_value)\n",
    "if p_value < 0.05:\n",
    "    print( 'Reject the null hypothesis. There is a significant difference between the two groups.')\n",
    "else:\n",
    "    print( 'Fail to reject the null hypothesis. There is no significant difference between the two groups.')\n"
   ]
  },
  {
   "cell_type": "code",
   "execution_count": 33,
   "id": "5e811ad9",
   "metadata": {
    "execution": {
     "iopub.execute_input": "2023-07-12T21:26:34.838224Z",
     "iopub.status.busy": "2023-07-12T21:26:34.837008Z",
     "iopub.status.idle": "2023-07-12T21:26:35.362089Z",
     "shell.execute_reply": "2023-07-12T21:26:35.360546Z"
    },
    "papermill": {
     "duration": 0.559237,
     "end_time": "2023-07-12T21:26:35.365289",
     "exception": false,
     "start_time": "2023-07-12T21:26:34.806052",
     "status": "completed"
    },
    "tags": []
   },
   "outputs": [
    {
     "data": {
      "text/plain": [
       "<matplotlib.lines.Line2D at 0x7d82945acac0>"
      ]
     },
     "execution_count": 33,
     "metadata": {},
     "output_type": "execute_result"
    },
    {
     "data": {
      "image/png": "[encoded data removed]",
      "text/plain": [
       "<Figure size 640x480 with 1 Axes>"
      ]
     },
     "metadata": {},
     "output_type": "display_data"
    }
   ],
   "source": [
    "plt.hist(p_diffs, bins=100)\n",
    "low = ab_data_diff\n",
    "higth = p_diffs.mean()\n",
    "plt.axvline(x=low, color='g')\n",
    "plt.axvline(x=higth, color='r')"
   ]
  },
  {
   "cell_type": "markdown",
   "id": "a64b8316",
   "metadata": {
    "papermill": {
     "duration": 0.029563,
     "end_time": "2023-07-12T21:26:35.424071",
     "exception": false,
     "start_time": "2023-07-12T21:26:35.394508",
     "status": "completed"
    },
    "tags": []
   },
   "source": [
    "# AB test using Code Simulation"
   ]
  },
  {
   "cell_type": "markdown",
   "id": "22209f76",
   "metadata": {
    "papermill": {
     "duration": 0.029004,
     "end_time": "2023-07-12T21:26:35.483217",
     "exception": false,
     "start_time": "2023-07-12T21:26:35.454213",
     "status": "completed"
    },
    "tags": []
   },
   "source": []
  },
  {
   "cell_type": "code",
   "execution_count": 34,
   "id": "f400a1b0",
   "metadata": {
    "execution": {
     "iopub.execute_input": "2023-07-12T21:26:35.543877Z",
     "iopub.status.busy": "2023-07-12T21:26:35.543463Z",
     "iopub.status.idle": "2023-07-12T21:26:35.663580Z",
     "shell.execute_reply": "2023-07-12T21:26:35.662114Z"
    },
    "papermill": {
     "duration": 0.153732,
     "end_time": "2023-07-12T21:26:35.666623",
     "exception": false,
     "start_time": "2023-07-12T21:26:35.512891",
     "status": "completed"
    },
    "tags": []
   },
   "outputs": [],
   "source": [
    "treatment = df.query('test_group == \"ad\"')\n",
    "control = df.query('test_group == \"psa\"')\n"
   ]
  },
  {
   "cell_type": "code",
   "execution_count": 35,
   "id": "9d15501c",
   "metadata": {
    "execution": {
     "iopub.execute_input": "2023-07-12T21:26:35.726991Z",
     "iopub.status.busy": "2023-07-12T21:26:35.726331Z",
     "iopub.status.idle": "2023-07-12T21:26:35.736159Z",
     "shell.execute_reply": "2023-07-12T21:26:35.734939Z"
    },
    "papermill": {
     "duration": 0.043159,
     "end_time": "2023-07-12T21:26:35.738677",
     "exception": false,
     "start_time": "2023-07-12T21:26:35.695518",
     "status": "completed"
    },
    "tags": []
   },
   "outputs": [
    {
     "data": {
      "text/plain": [
       "0.007692453192201517"
      ]
     },
     "execution_count": 35,
     "metadata": {},
     "output_type": "execute_result"
    }
   ],
   "source": [
    "dif = treatment[\"converted\"].mean() - control[\"converted\"].mean()\n",
    "dif"
   ]
  },
  {
   "cell_type": "code",
   "execution_count": 36,
   "id": "3c870d96",
   "metadata": {
    "execution": {
     "iopub.execute_input": "2023-07-12T21:26:35.799539Z",
     "iopub.status.busy": "2023-07-12T21:26:35.799054Z",
     "iopub.status.idle": "2023-07-12T21:26:35.811639Z",
     "shell.execute_reply": "2023-07-12T21:26:35.810704Z"
    },
    "papermill": {
     "duration": 0.04582,
     "end_time": "2023-07-12T21:26:35.814093",
     "exception": false,
     "start_time": "2023-07-12T21:26:35.768273",
     "status": "completed"
    },
    "tags": []
   },
   "outputs": [
    {
     "data": {
      "text/plain": [
       "array([[0., 0.],\n",
       "       [0., 0.],\n",
       "       [0., 0.],\n",
       "       ...,\n",
       "       [1., 0.],\n",
       "       [1., 0.],\n",
       "       [1., 0.]])"
      ]
     },
     "execution_count": 36,
     "metadata": {},
     "output_type": "execute_result"
    }
   ],
   "source": [
    "conversion = np.array([\n",
    "    np.append(np.zeros(len(control[\"converted\"])), np.ones(len(treatment[\"converted\"]))),\n",
    "    np.append(control[\"converted\"],treatment[\"converted\"])\n",
    "])\n",
    "conversion_t = conversion.T\n",
    "conversion_t"
   ]
  },
  {
   "cell_type": "code",
   "execution_count": 37,
   "id": "652a3836",
   "metadata": {
    "execution": {
     "iopub.execute_input": "2023-07-12T21:26:35.875186Z",
     "iopub.status.busy": "2023-07-12T21:26:35.874005Z",
     "iopub.status.idle": "2023-07-12T21:26:35.883041Z",
     "shell.execute_reply": "2023-07-12T21:26:35.881886Z"
    },
    "papermill": {
     "duration": 0.042655,
     "end_time": "2023-07-12T21:26:35.885853",
     "exception": false,
     "start_time": "2023-07-12T21:26:35.843198",
     "status": "completed"
    },
    "tags": []
   },
   "outputs": [],
   "source": [
    "\n",
    "def sh_exp(N):\n",
    "    experiment_diff_mean = np.empty([N, 1])\n",
    "    for times in np.arange(N):\n",
    "        experiment_label = np.random.randint(0, 2, len(conversion_t))\n",
    "        experiment_data = np.array([\n",
    "            experiment_label,\n",
    "            conversion_t[:, 1]\n",
    "        ]).T\n",
    "        experiment_diff_mean[times] = experiment_data[experiment_data[:, 0] == 1][:, 1].mean() - experiment_data[experiment_data[:, 0] == 0][:, 1].mean()\n",
    "    return experiment_diff_mean\n"
   ]
  },
  {
   "cell_type": "code",
   "execution_count": 38,
   "id": "7ddc6fff",
   "metadata": {
    "execution": {
     "iopub.execute_input": "2023-07-12T21:26:35.946089Z",
     "iopub.status.busy": "2023-07-12T21:26:35.945684Z",
     "iopub.status.idle": "2023-07-12T21:27:32.795257Z",
     "shell.execute_reply": "2023-07-12T21:27:32.793477Z"
    },
    "papermill": {
     "duration": 56.915034,
     "end_time": "2023-07-12T21:27:32.830507",
     "exception": false,
     "start_time": "2023-07-12T21:26:35.915473",
     "status": "completed"
    },
    "tags": []
   },
   "outputs": [
    {
     "name": "stdout",
     "output_type": "stream",
     "text": [
      "Reject the null hypothesis. There is a significant difference between the two groups.\n"
     ]
    }
   ],
   "source": [
    "n=2000\n",
    "p_difs = sh_exp(n)\n",
    "\n",
    "if dif > 0  : \n",
    "    p_value = len(p_difs[p_difs >= dif]) / n * 100\n",
    "else : \n",
    "    p_value = len(p_difs[p_difs <= dif]) / n * 100\n",
    "    \n",
    "if p_value < 0.05:\n",
    "    print( 'Reject the null hypothesis. There is a significant difference between the two groups.')\n",
    "else:\n",
    "    print( 'Fail to reject the null hypothesis. There is no significant difference between the two groups.')\n",
    "\n",
    "\n",
    "    "
   ]
  },
  {
   "cell_type": "code",
   "execution_count": 39,
   "id": "a8583017",
   "metadata": {
    "execution": {
     "iopub.execute_input": "2023-07-12T21:27:32.896679Z",
     "iopub.status.busy": "2023-07-12T21:27:32.896237Z",
     "iopub.status.idle": "2023-07-12T21:27:33.631480Z",
     "shell.execute_reply": "2023-07-12T21:27:33.630221Z"
    },
    "papermill": {
     "duration": 0.772998,
     "end_time": "2023-07-12T21:27:33.634346",
     "exception": false,
     "start_time": "2023-07-12T21:27:32.861348",
     "status": "completed"
    },
    "tags": []
   },
   "outputs": [
    {
     "name": "stderr",
     "output_type": "stream",
     "text": [
      "/opt/conda/lib/python3.10/site-packages/seaborn/axisgrid.py:118: UserWarning: The figure layout has changed to tight\n",
      "  self._figure.tight_layout(*args, **kwargs)\n"
     ]
    },
    {
     "data": {
      "text/plain": [
       "<seaborn.axisgrid.FacetGrid at 0x7d82a545f6d0>"
      ]
     },
     "execution_count": 39,
     "metadata": {},
     "output_type": "execute_result"
    },
    {
     "data": {
      "image/png": "[encoded data removed]",
      "text/plain": [
       "<Figure size 558.875x500 with 1 Axes>"
      ]
     },
     "metadata": {},
     "output_type": "display_data"
    }
   ],
   "source": [
    "sns.displot(p_difs, bins=50)"
   ]
  },
  {
   "cell_type": "markdown",
   "id": "5b5fc11b",
   "metadata": {
    "papermill": {
     "duration": 0.030757,
     "end_time": "2023-07-12T21:27:33.695937",
     "exception": false,
     "start_time": "2023-07-12T21:27:33.665180",
     "status": "completed"
    },
    "tags": []
   },
   "source": [
    "# T-test "
   ]
  },
  {
   "cell_type": "markdown",
   "id": "7ab658d5",
   "metadata": {
    "papermill": {
     "duration": 0.030663,
     "end_time": "2023-07-12T21:27:33.756389",
     "exception": false,
     "start_time": "2023-07-12T21:27:33.725726",
     "status": "completed"
    },
    "tags": []
   },
   "source": [
    "#### check distribution of two groups by KDE"
   ]
  },
  {
   "cell_type": "code",
   "execution_count": 40,
   "id": "40946d7c",
   "metadata": {
    "execution": {
     "iopub.execute_input": "2023-07-12T21:27:33.818735Z",
     "iopub.status.busy": "2023-07-12T21:27:33.818301Z",
     "iopub.status.idle": "2023-07-12T21:27:38.788794Z",
     "shell.execute_reply": "2023-07-12T21:27:38.787292Z"
    },
    "papermill": {
     "duration": 5.004614,
     "end_time": "2023-07-12T21:27:38.791510",
     "exception": false,
     "start_time": "2023-07-12T21:27:33.786896",
     "status": "completed"
    },
    "tags": []
   },
   "outputs": [
    {
     "data": {
      "image/png": "[encoded data removed]",
      "text/plain": [
       "<Figure size 1000x600 with 1 Axes>"
      ]
     },
     "metadata": {},
     "output_type": "display_data"
    }
   ],
   "source": [
    "\n",
    "\n",
    "\n",
    "control_mean = df.loc[df['test_group'] == 'psa', 'converted'].mean()\n",
    "treatment_mean = df.loc[df['test_group'] == 'ad', 'converted'].mean()\n",
    "\n",
    "plt.figure(figsize=(10, 6))\n",
    "sns.kdeplot(data=df, x='converted', hue='test_group', fill=True, common_norm=False)\n",
    "plt.axvline(control_mean, color='b', linestyle='--', label='Control Mean')\n",
    "plt.axvline(treatment_mean, color='r', linestyle='--', label='Treatment Mean')\n",
    "plt.title('Distribution of Mean Converted Column by Test Group')\n",
    "plt.xlabel('Converted')\n",
    "plt.ylabel('Density')\n",
    "plt.legend(title='Test Group')\n",
    "plt.show()\n"
   ]
  },
  {
   "cell_type": "markdown",
   "id": "fa14ab78",
   "metadata": {
    "papermill": {
     "duration": 0.031743,
     "end_time": "2023-07-12T21:27:38.855429",
     "exception": false,
     "start_time": "2023-07-12T21:27:38.823686",
     "status": "completed"
    },
    "tags": []
   },
   "source": [
    "##### check distribution of each group using bootstrap"
   ]
  },
  {
   "cell_type": "code",
   "execution_count": 41,
   "id": "0cca3cf9",
   "metadata": {
    "execution": {
     "iopub.execute_input": "2023-07-12T21:27:38.919044Z",
     "iopub.status.busy": "2023-07-12T21:27:38.918280Z",
     "iopub.status.idle": "2023-07-12T21:30:05.367285Z",
     "shell.execute_reply": "2023-07-12T21:30:05.365932Z"
    },
    "papermill": {
     "duration": 146.483849,
     "end_time": "2023-07-12T21:30:05.369929",
     "exception": false,
     "start_time": "2023-07-12T21:27:38.886080",
     "status": "completed"
    },
    "tags": []
   },
   "outputs": [
    {
     "data": {
      "image/png": "[encoded data removed]",
      "text/plain": [
       "<Figure size 640x480 with 1 Axes>"
      ]
     },
     "metadata": {},
     "output_type": "display_data"
    },
    {
     "data": {
      "image/png": "[encoded data removed]",
      "text/plain": [
       "<Figure size 640x480 with 1 Axes>"
      ]
     },
     "metadata": {},
     "output_type": "display_data"
    }
   ],
   "source": [
    "boot_treatment=[]\n",
    "for i in range(1000):\n",
    "    boot_mean = treatment.sample(frac=1, replace=True)['converted'].mean()\n",
    "    boot_treatment.append(boot_mean)\n",
    "boot_treatment=pd.DataFrame(boot_treatment)\n",
    "boot_treatment.plot(kind='density');\n",
    "\n",
    "boot_control=[]\n",
    "\n",
    "for i in range(1000):\n",
    "    boot_mean=control.sample(frac=1,replace=True)['converted'].mean()\n",
    "    boot_control.append(boot_mean)\n",
    "    \n",
    "boot_control=pd.DataFrame(boot_control)\n",
    "boot_control.plot(kind='density');\n",
    "    "
   ]
  },
  {
   "cell_type": "code",
   "execution_count": 42,
   "id": "59e8a7d6",
   "metadata": {
    "execution": {
     "iopub.execute_input": "2023-07-12T21:30:05.435939Z",
     "iopub.status.busy": "2023-07-12T21:30:05.435487Z",
     "iopub.status.idle": "2023-07-12T21:30:05.451682Z",
     "shell.execute_reply": "2023-07-12T21:30:05.450310Z"
    },
    "papermill": {
     "duration": 0.052515,
     "end_time": "2023-07-12T21:30:05.454384",
     "exception": false,
     "start_time": "2023-07-12T21:30:05.401869",
     "status": "completed"
    },
    "tags": []
   },
   "outputs": [
    {
     "name": "stdout",
     "output_type": "stream",
     "text": [
      "T-statistic: 7.37040597428566\n",
      "P-value: 1.7033052627831264e-13\n",
      "Reject the null hypothesis. There is a significant difference between the two groups.\n"
     ]
    }
   ],
   "source": [
    "\n",
    "def t_test(treatment_data, control_data) :\n",
    "    \n",
    "    t_statistic, p_value = stats.ttest_ind(treatment_data, control_data)\n",
    "    print(\"T-statistic:\", t_statistic)\n",
    "    print(\"P-value:\", p_value)\n",
    "    \n",
    "    if p_value < 0.05 :    \n",
    "        print( 'Reject the null hypothesis. There is a significant difference between the two groups.')\n",
    "    else:\n",
    "        print( 'Fail to reject the null hypothesis. There is no significant difference between the two groups.')\n",
    "\n",
    "    return t_statistic, p_value\n",
    "    \n",
    "\n",
    "# Perform a t-test to compare the means of the two groups\n",
    "t_statistic, p_value = t_test(treatment[\"converted\"], control[\"converted\"])\n",
    "\n",
    "    "
   ]
  },
  {
   "cell_type": "markdown",
   "id": "7fe3fe2a",
   "metadata": {
    "papermill": {
     "duration": 0.031208,
     "end_time": "2023-07-12T21:30:05.518010",
     "exception": false,
     "start_time": "2023-07-12T21:30:05.486802",
     "status": "completed"
    },
    "tags": []
   },
   "source": [
    "# Chi2 Test"
   ]
  },
  {
   "cell_type": "markdown",
   "id": "e79d0e94",
   "metadata": {
    "papermill": {
     "duration": 0.031695,
     "end_time": "2023-07-12T21:30:05.581270",
     "exception": false,
     "start_time": "2023-07-12T21:30:05.549575",
     "status": "completed"
    },
    "tags": []
   },
   "source": [
    "Does the display of advertisements correlate with the number of purchases or not?"
   ]
  },
  {
   "cell_type": "code",
   "execution_count": 43,
   "id": "36638dbb",
   "metadata": {
    "execution": {
     "iopub.execute_input": "2023-07-12T21:30:05.647193Z",
     "iopub.status.busy": "2023-07-12T21:30:05.646476Z",
     "iopub.status.idle": "2023-07-12T21:30:06.118643Z",
     "shell.execute_reply": "2023-07-12T21:30:06.117283Z"
    },
    "papermill": {
     "duration": 0.508547,
     "end_time": "2023-07-12T21:30:06.121561",
     "exception": false,
     "start_time": "2023-07-12T21:30:05.613014",
     "status": "completed"
    },
    "tags": []
   },
   "outputs": [
    {
     "data": {
      "text/html": [
       "<div>\n",
       "<style scoped>\n",
       "    .dataframe tbody tr th:only-of-type {\n",
       "        vertical-align: middle;\n",
       "    }\n",
       "\n",
       "    .dataframe tbody tr th {\n",
       "        vertical-align: top;\n",
       "    }\n",
       "\n",
       "    .dataframe thead th {\n",
       "        text-align: right;\n",
       "    }\n",
       "</style>\n",
       "<table border=\"1\" class=\"dataframe\">\n",
       "  <thead>\n",
       "    <tr style=\"text-align: right;\">\n",
       "      <th>converted</th>\n",
       "      <th>False</th>\n",
       "      <th>True</th>\n",
       "      <th>All</th>\n",
       "    </tr>\n",
       "    <tr>\n",
       "      <th>test_group</th>\n",
       "      <th></th>\n",
       "      <th></th>\n",
       "      <th></th>\n",
       "    </tr>\n",
       "  </thead>\n",
       "  <tbody>\n",
       "    <tr>\n",
       "      <th>ad</th>\n",
       "      <td>550154</td>\n",
       "      <td>14423</td>\n",
       "      <td>564577</td>\n",
       "    </tr>\n",
       "    <tr>\n",
       "      <th>psa</th>\n",
       "      <td>23104</td>\n",
       "      <td>420</td>\n",
       "      <td>23524</td>\n",
       "    </tr>\n",
       "    <tr>\n",
       "      <th>All</th>\n",
       "      <td>573258</td>\n",
       "      <td>14843</td>\n",
       "      <td>588101</td>\n",
       "    </tr>\n",
       "  </tbody>\n",
       "</table>\n",
       "</div>"
      ],
      "text/plain": [
       "converted    False   True     All\n",
       "test_group                       \n",
       "ad          550154  14423  564577\n",
       "psa          23104    420   23524\n",
       "All         573258  14843  588101"
      ]
     },
     "execution_count": 43,
     "metadata": {},
     "output_type": "execute_result"
    }
   ],
   "source": [
    "ct = pd.crosstab(df['test_group'], df['converted'], margins=True)\n",
    "\n",
    "\n",
    "ct"
   ]
  },
  {
   "cell_type": "code",
   "execution_count": 44,
   "id": "a16a299e",
   "metadata": {
    "execution": {
     "iopub.execute_input": "2023-07-12T21:30:06.187056Z",
     "iopub.status.busy": "2023-07-12T21:30:06.186638Z",
     "iopub.status.idle": "2023-07-12T21:30:06.195291Z",
     "shell.execute_reply": "2023-07-12T21:30:06.194184Z"
    },
    "papermill": {
     "duration": 0.044502,
     "end_time": "2023-07-12T21:30:06.197777",
     "exception": false,
     "start_time": "2023-07-12T21:30:06.153275",
     "status": "completed"
    },
    "tags": []
   },
   "outputs": [
    {
     "data": {
      "text/plain": [
       "array([[550154,  14423],\n",
       "       [ 23104,    420]])"
      ]
     },
     "execution_count": 44,
     "metadata": {},
     "output_type": "execute_result"
    }
   ],
   "source": [
    "\n",
    "d = np.array([ct.iloc[0][: -1].values, ct.iloc[1][: -1].values])\n",
    "d"
   ]
  },
  {
   "cell_type": "code",
   "execution_count": 45,
   "id": "c11dc61f",
   "metadata": {
    "execution": {
     "iopub.execute_input": "2023-07-12T21:30:06.266030Z",
     "iopub.status.busy": "2023-07-12T21:30:06.265038Z",
     "iopub.status.idle": "2023-07-12T21:30:06.273715Z",
     "shell.execute_reply": "2023-07-12T21:30:06.272466Z"
    },
    "papermill": {
     "duration": 0.044795,
     "end_time": "2023-07-12T21:30:06.276068",
     "exception": false,
     "start_time": "2023-07-12T21:30:06.231273",
     "status": "completed"
    },
    "tags": []
   },
   "outputs": [
    {
     "name": "stdout",
     "output_type": "stream",
     "text": [
      "Chi-square statistic: 54.318051591383124\n",
      "P-value: 4.5144265218984724e-11\n",
      "Degrees of freedom: 4\n",
      "Expected frequencies:\n",
      "[[550327.71899045  14249.28100955 564577.        ]\n",
      " [ 22930.28100955    593.71899045  23524.        ]\n",
      " [573258.          14843.         588101.        ]]\n"
     ]
    }
   ],
   "source": [
    "chi2, p_value, dof, expected  =stats.chi2_contingency(ct)\n",
    "\n",
    "# Print the results\n",
    "print(\"Chi-square statistic:\", chi2)\n",
    "print(\"P-value:\", p_value)\n",
    "print(\"Degrees of freedom:\", dof)\n",
    "print(\"Expected frequencies:\")\n",
    "print(expected)"
   ]
  },
  {
   "cell_type": "code",
   "execution_count": 46,
   "id": "2475ea0b",
   "metadata": {
    "execution": {
     "iopub.execute_input": "2023-07-12T21:30:06.342763Z",
     "iopub.status.busy": "2023-07-12T21:30:06.341991Z",
     "iopub.status.idle": "2023-07-12T21:30:06.348470Z",
     "shell.execute_reply": "2023-07-12T21:30:06.346990Z"
    },
    "papermill": {
     "duration": 0.042804,
     "end_time": "2023-07-12T21:30:06.350836",
     "exception": false,
     "start_time": "2023-07-12T21:30:06.308032",
     "status": "completed"
    },
    "tags": []
   },
   "outputs": [
    {
     "name": "stdout",
     "output_type": "stream",
     "text": [
      "Reject the null hypothesis. There is a significant difference between the two groups.\n"
     ]
    }
   ],
   "source": [
    "if p_value < 0.05:\n",
    "    print ( 'Reject the null hypothesis. There is a significant difference between the two groups.')\n",
    "else:\n",
    "    print ('Fail to reject the null hypothesis. There is no significant difference between the two groups.')\n",
    "\n",
    "  "
   ]
  },
  {
   "cell_type": "code",
   "execution_count": 47,
   "id": "adfabe41",
   "metadata": {
    "execution": {
     "iopub.execute_input": "2023-07-12T21:30:06.417842Z",
     "iopub.status.busy": "2023-07-12T21:30:06.417382Z",
     "iopub.status.idle": "2023-07-12T21:30:06.422345Z",
     "shell.execute_reply": "2023-07-12T21:30:06.421173Z"
    },
    "papermill": {
     "duration": 0.041639,
     "end_time": "2023-07-12T21:30:06.424639",
     "exception": false,
     "start_time": "2023-07-12T21:30:06.383000",
     "status": "completed"
    },
    "tags": []
   },
   "outputs": [],
   "source": [
    "# Simin Alavizadeh"
   ]
  },
  {
   "cell_type": "code",
   "execution_count": null,
   "id": "2618669d",
   "metadata": {
    "papermill": {
     "duration": 0.031969,
     "end_time": "2023-07-12T21:30:06.488464",
     "exception": false,
     "start_time": "2023-07-12T21:30:06.456495",
     "status": "completed"
    },
    "tags": []
   },
   "outputs": [],
   "source": []
  },
  {
   "cell_type": "code",
   "execution_count": null,
   "id": "6e87aa15",
   "metadata": {
    "papermill": {
     "duration": 0.031748,
     "end_time": "2023-07-12T21:30:06.552434",
     "exception": false,
     "start_time": "2023-07-12T21:30:06.520686",
     "status": "completed"
    },
    "tags": []
   },
   "outputs": [],
   "source": []
  },
  {
   "cell_type": "code",
   "execution_count": null,
   "id": "698a2e7e",
   "metadata": {
    "papermill": {
     "duration": 0.032132,
     "end_time": "2023-07-12T21:30:06.618342",
     "exception": false,
     "start_time": "2023-07-12T21:30:06.586210",
     "status": "completed"
    },
    "tags": []
   },
   "outputs": [],
   "source": []
  }
 ],
 "metadata": {
  "kernelspec": {
   "display_name": "Python 3 (ipykernel)",
   "language": "python",
   "name": "python3"
  },
  "language_info": {
   "codemirror_mode": {
    "name": "ipython",
    "version": 3
   },
   "file_extension": ".py",
   "mimetype": "text/x-python",
   "name": "python",
   "nbconvert_exporter": "python",
   "pygments_lexer": "ipython3",
   "version": "3.10.13"
  },
  "papermill": {
   "default_parameters": {},
   "duration": 238.249727,
   "end_time": "2023-07-12T21:30:07.775322",
   "environment_variables": {},
   "exception": null,
   "input_path": "__notebook__.ipynb",
   "output_path": "__notebook__.ipynb",
   "parameters": {},
   "start_time": "2023-07-12T21:26:09.525595",
   "version": "2.4.0"
  }
 },
 "nbformat": 4,
 "nbformat_minor": 5
}
