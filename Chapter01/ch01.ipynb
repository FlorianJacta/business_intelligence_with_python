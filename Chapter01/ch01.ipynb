{
 "cells": [
  {
   "cell_type": "code",
   "execution_count": 1,
   "id": "4d8cf5a6",
   "metadata": {},
   "outputs": [
    {
     "name": "stdout",
     "output_type": "stream",
     "text": [
      "Python 3.10.13\n",
      "pip 23.3.1 from /home/gael/miniconda3/envs/pandas/lib/python3.10/site-packages/pip (python 3.10)\n"
     ]
    }
   ],
   "source": [
    "!python --version\n",
    "!pip --version"
   ]
  },
  {
   "cell_type": "code",
   "execution_count": 1,
   "id": "9cb6f758-3b1d-4644-b8d0-19053db2dbb7",
   "metadata": {},
   "outputs": [
    {
     "name": "stderr",
     "output_type": "stream",
     "text": [
      "\u001b[32m2024-07-17 15:14:45.469\u001b[0m | \u001b[1mINFO    \u001b[0m | \u001b[36m__main__\u001b[0m:\u001b[36mdivide\u001b[0m:\u001b[36m10\u001b[0m - \u001b[1mDivision of 10 by 2 = 5.0\u001b[0m\n",
      "\u001b[32m2024-07-17 15:14:45.470\u001b[0m | \u001b[31m\u001b[1mERROR   \u001b[0m | \u001b[36m__main__\u001b[0m:\u001b[36mdivide\u001b[0m:\u001b[36m13\u001b[0m - \u001b[31m\u001b[1mDivision by zero!\u001b[0m\n"
     ]
    }
   ],
   "source": [
    "from loguru import logger\n",
    "\n",
    "# Configuring Loguru to write to a file\n",
    "logger.add(\"app.log\", rotation=\"500 MB\", level=\"INFO\")\n",
    "\n",
    "# Example of using logs\n",
    "def divide(x, y):\n",
    "    try:\n",
    "        result = x / y\n",
    "        logger.info(f\"Division of {x} by {y} = {result}\")\n",
    "        return result\n",
    "    except ZeroDivisionError:\n",
    "        logger.error(\"Division by zero!\")\n",
    "        return None\n",
    "\n",
    "# Calling the function with parameters\n",
    "divide(10, 2)\n",
    "divide(10, 0)"
   ]
  },
  {
   "cell_type": "code",
   "execution_count": null,
   "id": "7b82954f-eec4-4f91-9203-ebc9240ab278",
   "metadata": {},
   "outputs": [],
   "source": []
  }
 ],
 "metadata": {
  "kernelspec": {
   "display_name": "Python 3 (ipykernel)",
   "language": "python",
   "name": "python3"
  },
  "language_info": {
   "codemirror_mode": {
    "name": "ipython",
    "version": 3
   },
   "file_extension": ".py",
   "mimetype": "text/x-python",
   "name": "python",
   "nbconvert_exporter": "python",
   "pygments_lexer": "ipython3",
   "version": "3.10.13"
  }
 },
 "nbformat": 4,
 "nbformat_minor": 5
}
